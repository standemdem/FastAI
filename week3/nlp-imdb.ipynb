{
 "cells": [
  {
   "cell_type": "code",
   "execution_count": 1,
   "metadata": {},
   "outputs": [],
   "source": [
    "%reload_ext autoreload\n",
    "%autoreload 2\n",
    "%matplotlib inline"
   ]
  },
  {
   "cell_type": "code",
   "execution_count": 2,
   "metadata": {},
   "outputs": [],
   "source": [
    "from fastai.text import *"
   ]
  },
  {
   "cell_type": "markdown",
   "metadata": {},
   "source": [
    "## Preparing my Data"
   ]
  },
  {
   "cell_type": "code",
   "execution_count": 3,
   "metadata": {},
   "outputs": [
    {
     "data": {
      "text/plain": [
       "[PosixPath('/home/stan_demontmarin/.fastai/data/imdb_sample/data_save.pkl'),\n",
       " PosixPath('/home/stan_demontmarin/.fastai/data/imdb_sample/texts.csv')]"
      ]
     },
     "execution_count": 3,
     "metadata": {},
     "output_type": "execute_result"
    }
   ],
   "source": [
    "path = untar_data(URLs.IMDB_SAMPLE)\n",
    "path.ls()"
   ]
  },
  {
   "cell_type": "code",
   "execution_count": 4,
   "metadata": {},
   "outputs": [
    {
     "data": {
      "text/html": [
       "<div>\n",
       "<style scoped>\n",
       "    .dataframe tbody tr th:only-of-type {\n",
       "        vertical-align: middle;\n",
       "    }\n",
       "\n",
       "    .dataframe tbody tr th {\n",
       "        vertical-align: top;\n",
       "    }\n",
       "\n",
       "    .dataframe thead th {\n",
       "        text-align: right;\n",
       "    }\n",
       "</style>\n",
       "<table border=\"1\" class=\"dataframe\">\n",
       "  <thead>\n",
       "    <tr style=\"text-align: right;\">\n",
       "      <th></th>\n",
       "      <th>label</th>\n",
       "      <th>text</th>\n",
       "      <th>is_valid</th>\n",
       "    </tr>\n",
       "  </thead>\n",
       "  <tbody>\n",
       "    <tr>\n",
       "      <th>0</th>\n",
       "      <td>negative</td>\n",
       "      <td>Un-bleeping-believable! Meg Ryan doesn't even ...</td>\n",
       "      <td>False</td>\n",
       "    </tr>\n",
       "    <tr>\n",
       "      <th>1</th>\n",
       "      <td>positive</td>\n",
       "      <td>This is a extremely well-made film. The acting...</td>\n",
       "      <td>False</td>\n",
       "    </tr>\n",
       "    <tr>\n",
       "      <th>2</th>\n",
       "      <td>negative</td>\n",
       "      <td>Every once in a long while a movie will come a...</td>\n",
       "      <td>False</td>\n",
       "    </tr>\n",
       "    <tr>\n",
       "      <th>3</th>\n",
       "      <td>positive</td>\n",
       "      <td>Name just says it all. I watched this movie wi...</td>\n",
       "      <td>False</td>\n",
       "    </tr>\n",
       "    <tr>\n",
       "      <th>4</th>\n",
       "      <td>negative</td>\n",
       "      <td>This movie succeeds at being one of the most u...</td>\n",
       "      <td>False</td>\n",
       "    </tr>\n",
       "  </tbody>\n",
       "</table>\n",
       "</div>"
      ],
      "text/plain": [
       "      label                                               text  is_valid\n",
       "0  negative  Un-bleeping-believable! Meg Ryan doesn't even ...     False\n",
       "1  positive  This is a extremely well-made film. The acting...     False\n",
       "2  negative  Every once in a long while a movie will come a...     False\n",
       "3  positive  Name just says it all. I watched this movie wi...     False\n",
       "4  negative  This movie succeeds at being one of the most u...     False"
      ]
     },
     "execution_count": 4,
     "metadata": {},
     "output_type": "execute_result"
    }
   ],
   "source": [
    "df = pd.read_csv(path/'texts.csv')\n",
    "df.head()"
   ]
  },
  {
   "cell_type": "markdown",
   "metadata": {},
   "source": [
    "We now need to create the TextDatabunch"
   ]
  },
  {
   "cell_type": "code",
   "execution_count": 5,
   "metadata": {},
   "outputs": [],
   "source": [
    "data_lm = TextDataBunch.from_csv(path, 'texts.csv')"
   ]
  },
  {
   "cell_type": "code",
   "execution_count": 6,
   "metadata": {},
   "outputs": [],
   "source": [
    "TextDataBunch.from_csv??"
   ]
  },
  {
   "cell_type": "markdown",
   "metadata": {},
   "source": [
    "The TextDataBunch transform the text into exploitable datas (numbers).\n",
    "\n",
    "Behind the scene, it does a tokenization of every word, then a numericalization.\n",
    "\n",
    "Since we did some calculations, let's save the result of these calculations so we don't have to do it again next time and save some time\n"
   ]
  },
  {
   "cell_type": "code",
   "execution_count": 7,
   "metadata": {},
   "outputs": [],
   "source": [
    "data_lm.save()"
   ]
  },
  {
   "cell_type": "markdown",
   "metadata": {},
   "source": [
    "Next time, the only thing we'll have to do is to load data_lm"
   ]
  },
  {
   "cell_type": "code",
   "execution_count": 8,
   "metadata": {},
   "outputs": [],
   "source": [
    "data = load_data(path)"
   ]
  },
  {
   "cell_type": "markdown",
   "metadata": {},
   "source": [
    "## Tokenization, what does it do ?"
   ]
  },
  {
   "cell_type": "markdown",
   "metadata": {},
   "source": [
    "To see what the tokenizer has done behind the scenes, let's have a look at a few texts in a batch."
   ]
  },
  {
   "cell_type": "code",
   "execution_count": 9,
   "metadata": {},
   "outputs": [
    {
     "data": {
      "text/html": [
       "<table border=\"1\" class=\"dataframe\">\n",
       "  <thead>\n",
       "    <tr style=\"text-align: right;\">\n",
       "      <th>text</th>\n",
       "      <th>target</th>\n",
       "    </tr>\n",
       "  </thead>\n",
       "  <tbody>\n",
       "    <tr>\n",
       "      <td>xxbos xxmaj raising xxmaj victor xxmaj vargas : a xxmaj review \\n \\n  xxmaj you know , xxmaj raising xxmaj victor xxmaj vargas is like sticking your hands into a big , steaming bowl of xxunk . xxmaj it 's warm and gooey , but you 're not sure if it feels right . xxmaj try as i might , no matter how warm and gooey xxmaj raising xxmaj</td>\n",
       "      <td>negative</td>\n",
       "    </tr>\n",
       "    <tr>\n",
       "      <td>xxbos xxup the xxup shop xxup around xxup the xxup corner is one of the xxunk and most feel - good romantic comedies ever made . xxmaj there 's just no getting around that , and it 's hard to actually put one 's feeling for this film into words . xxmaj it 's not one of those films that tries too hard , nor does it come up with</td>\n",
       "      <td>positive</td>\n",
       "    </tr>\n",
       "    <tr>\n",
       "      <td>xxbos xxmaj many neglect that this is n't just a classic due to the fact that it 's the first xxup 3d game , or even the first xxunk - up . xxmaj it 's also one of the first xxunk games , one of the xxunk definitely the first ) truly claustrophobic games , and just a pretty well - xxunk gaming experience in general . xxmaj with graphics</td>\n",
       "      <td>positive</td>\n",
       "    </tr>\n",
       "    <tr>\n",
       "      <td>xxbos i really wanted to love this show . i truly , honestly did . \\n \\n  xxmaj for the first time , gay viewers get their own version of the \" xxmaj the xxmaj bachelor \" . xxmaj with the help of his obligatory \" hag \" xxmaj xxunk , xxmaj james , a good looking , well - to - do thirty - something has the chance</td>\n",
       "      <td>negative</td>\n",
       "    </tr>\n",
       "    <tr>\n",
       "      <td>xxbos xxmaj to review this movie , i without any doubt would have to quote that memorable scene in xxmaj tarantino 's \" xxmaj pulp xxmaj fiction \" ( xxunk ) when xxmaj jules and xxmaj vincent are talking about xxmaj mia xxmaj wallace and what she does for a living . xxmaj jules tells xxmaj vincent that the \" xxmaj only thing she did worthwhile was pilot \" .</td>\n",
       "      <td>negative</td>\n",
       "    </tr>\n",
       "  </tbody>\n",
       "</table>"
      ],
      "text/plain": [
       "<IPython.core.display.HTML object>"
      ]
     },
     "metadata": {},
     "output_type": "display_data"
    }
   ],
   "source": [
    "data.show_batch()"
   ]
  },
  {
   "cell_type": "markdown",
   "metadata": {},
   "source": [
    "- the \"'s\" are grouped together in one token\n",
    "- the contractions are separated like this: \"did\", \"n't\"\n",
    "- content has been cleaned for any HTML symbol and lower cased\n",
    "- there are several special tokens (all those that begin by xx), to replace unknown tokens (see below) or to introduce different text fields (here we only have one)."
   ]
  },
  {
   "cell_type": "markdown",
   "metadata": {},
   "source": [
    "## Numericalization"
   ]
  },
  {
   "cell_type": "markdown",
   "metadata": {},
   "source": [
    "Once we have extracted tokens from our texts, we convert to integers by creating a list of all the words used. We only keep the ones that appear at least twice with a maximum vocabulary size of 60,000 (by default) and replace the ones that don't make the cut by the unknown token `UNK`.\n",
    "\n",
    "The correspondance from ids to tokens is stored in the `vocab` attribute of our datasets, in a dictionary called `itos` (for int to string)."
   ]
  },
  {
   "cell_type": "code",
   "execution_count": 10,
   "metadata": {},
   "outputs": [
    {
     "data": {
      "text/plain": [
       "['xxunk',\n",
       " 'xxpad',\n",
       " 'xxbos',\n",
       " 'xxeos',\n",
       " 'xxfld',\n",
       " 'xxmaj',\n",
       " 'xxup',\n",
       " 'xxrep',\n",
       " 'xxwrep',\n",
       " 'the']"
      ]
     },
     "execution_count": 10,
     "metadata": {},
     "output_type": "execute_result"
    }
   ],
   "source": [
    "data.vocab.itos[:10]"
   ]
  },
  {
   "cell_type": "code",
   "execution_count": 11,
   "metadata": {},
   "outputs": [
    {
     "data": {
      "text/plain": [
       "array([   2,   13,  345, 3226, ...,  135,   15,  122,   11])"
      ]
     },
     "execution_count": 11,
     "metadata": {},
     "output_type": "execute_result"
    }
   ],
   "source": [
    "data.train_ds[0][0].data"
   ]
  },
  {
   "cell_type": "markdown",
   "metadata": {},
   "source": [
    "## With the data block API"
   ]
  },
  {
   "cell_type": "code",
   "execution_count": 12,
   "metadata": {},
   "outputs": [],
   "source": [
    "data = (TextList.from_csv(path, 'texts.csv', cols='text')\n",
    "                .split_from_df(col=2)\n",
    "                .label_from_df(cols=0)\n",
    "                .databunch())"
   ]
  },
  {
   "cell_type": "code",
   "execution_count": 13,
   "metadata": {},
   "outputs": [
    {
     "data": {
      "text/html": [
       "<table border=\"1\" class=\"dataframe\">\n",
       "  <thead>\n",
       "    <tr style=\"text-align: right;\">\n",
       "      <th>text</th>\n",
       "      <th>target</th>\n",
       "    </tr>\n",
       "  </thead>\n",
       "  <tbody>\n",
       "    <tr>\n",
       "      <td>xxbos xxmaj raising xxmaj victor xxmaj vargas : a xxmaj review \\n \\n  xxmaj you know , xxmaj raising xxmaj victor xxmaj vargas is like sticking your hands into a big , xxunk bowl of xxunk . xxmaj it 's warm and gooey , but you 're not sure if it feels right . xxmaj try as i might , no matter how warm and gooey xxmaj raising xxmaj</td>\n",
       "      <td>negative</td>\n",
       "    </tr>\n",
       "    <tr>\n",
       "      <td>xxbos xxup the xxup shop xxup around xxup the xxup corner is one of the xxunk and most feel - good romantic comedies ever made . xxmaj there 's just no getting around that , and it 's hard to actually put one 's feeling for this film into words . xxmaj it 's not one of those films that tries too hard , nor does it come up with</td>\n",
       "      <td>positive</td>\n",
       "    </tr>\n",
       "    <tr>\n",
       "      <td>xxbos xxmaj now that xxmaj che(2008 ) has finished its relatively short xxmaj australian cinema run ( extremely limited xxunk screen in xxmaj xxunk , after xxunk ) , i can xxunk join both xxunk of \" xxmaj at xxmaj the xxmaj movies \" in taking xxmaj steven xxmaj soderbergh to task . \\n \\n  xxmaj it 's usually satisfying to watch a film director change his style /</td>\n",
       "      <td>negative</td>\n",
       "    </tr>\n",
       "    <tr>\n",
       "      <td>xxbos xxmaj this film sat on my xxmaj xxunk for weeks before i watched it . i xxunk a self - indulgent xxunk flick about relationships gone bad . i was wrong ; this was an xxunk xxunk into the screwed - up xxunk of xxmaj new xxmaj xxunk . \\n \\n  xxmaj the format is the same as xxmaj max xxmaj xxunk ' \" xxmaj la xxmaj xxunk</td>\n",
       "      <td>positive</td>\n",
       "    </tr>\n",
       "    <tr>\n",
       "      <td>xxbos xxmaj many neglect that this is n't just a classic due to the fact that it 's the first xxup 3d game , or even the first xxunk - up . xxmaj it 's also one of the first xxunk games , one of the xxunk definitely the first ) truly claustrophobic games , and just a pretty well - xxunk gaming experience in general . xxmaj with graphics</td>\n",
       "      <td>positive</td>\n",
       "    </tr>\n",
       "  </tbody>\n",
       "</table>"
      ],
      "text/plain": [
       "<IPython.core.display.HTML object>"
      ]
     },
     "metadata": {},
     "output_type": "display_data"
    }
   ],
   "source": [
    "data.show_batch()"
   ]
  },
  {
   "cell_type": "markdown",
   "metadata": {},
   "source": [
    "# Let's do it for real with the full dataset"
   ]
  },
  {
   "cell_type": "code",
   "execution_count": 14,
   "metadata": {},
   "outputs": [],
   "source": [
    "bs =48 \n",
    "## Be carefull, nlp is gpu heavy so reduce the bs if needed"
   ]
  },
  {
   "cell_type": "code",
   "execution_count": 15,
   "metadata": {},
   "outputs": [
    {
     "data": {
      "text/plain": [
       "[PosixPath('/home/stan_demontmarin/.fastai/data/imdb/train'),\n",
       " PosixPath('/home/stan_demontmarin/.fastai/data/imdb/tmp_clas'),\n",
       " PosixPath('/home/stan_demontmarin/.fastai/data/imdb/tmp_lm'),\n",
       " PosixPath('/home/stan_demontmarin/.fastai/data/imdb/imdb.vocab'),\n",
       " PosixPath('/home/stan_demontmarin/.fastai/data/imdb/test'),\n",
       " PosixPath('/home/stan_demontmarin/.fastai/data/imdb/README'),\n",
       " PosixPath('/home/stan_demontmarin/.fastai/data/imdb/unsup')]"
      ]
     },
     "execution_count": 15,
     "metadata": {},
     "output_type": "execute_result"
    }
   ],
   "source": [
    "path = untar_data(URLs.IMDB)\n",
    "path.ls()"
   ]
  },
  {
   "cell_type": "code",
   "execution_count": 16,
   "metadata": {},
   "outputs": [
    {
     "data": {
      "text/plain": [
       "[PosixPath('/home/stan_demontmarin/.fastai/data/imdb/train/unsupBow.feat'),\n",
       " PosixPath('/home/stan_demontmarin/.fastai/data/imdb/train/pos'),\n",
       " PosixPath('/home/stan_demontmarin/.fastai/data/imdb/train/neg'),\n",
       " PosixPath('/home/stan_demontmarin/.fastai/data/imdb/train/labeledBow.feat')]"
      ]
     },
     "execution_count": 16,
     "metadata": {},
     "output_type": "execute_result"
    }
   ],
   "source": [
    "(path/'train').ls()"
   ]
  },
  {
   "cell_type": "code",
   "execution_count": 17,
   "metadata": {},
   "outputs": [],
   "source": [
    "data_lm = (TextList.from_folder(path)\n",
    "           #Inputs: all the text files in path\n",
    "            .filter_by_folder(include=['train', 'test', 'unsup']) \n",
    "           #We may have other temp folders that contain text files so we only keep what's in train and test\n",
    "            .split_by_rand_pct(0.1)\n",
    "           #We randomly split and keep 10% (10,000 reviews) for validation\n",
    "            .label_for_lm()           \n",
    "           #We want to do a language model so we label accordingly\n",
    "            .databunch(bs=bs))\n",
    "data_lm.save('data_lm.pkl')"
   ]
  },
  {
   "cell_type": "code",
   "execution_count": 18,
   "metadata": {},
   "outputs": [
    {
     "data": {
      "text/html": [
       "<table border=\"1\" class=\"dataframe\">\n",
       "  <thead>\n",
       "    <tr style=\"text-align: right;\">\n",
       "      <th>idx</th>\n",
       "      <th>text</th>\n",
       "    </tr>\n",
       "  </thead>\n",
       "  <tbody>\n",
       "    <tr>\n",
       "      <td>0</td>\n",
       "      <td>xxmaj othello was great ! \\n \\n  xxmaj iago 's character was played so well by the xxmaj kenneth fellow ! even xxunk xxmaj iago is really evil and despicable , the character was played so well that it does what shakespeare intended for the charater to be , a pleasure for the audience to hate . i have to say that fishburne 's performance here was really good</td>\n",
       "    </tr>\n",
       "    <tr>\n",
       "      <td>1</td>\n",
       "      <td>patrick xxmaj galloway an expert of the occult and a formidable fighter who is summoned by a friend to his estate in xxmaj ireland to investigate some weird xxunk . xxmaj the game is set in xxmaj ireland after xxmaj world xxmaj war one so do n't expect to find weapons like xxunk or rocket launchers . xxmaj all the weapons in the game can be considered antiques but the</td>\n",
       "    </tr>\n",
       "    <tr>\n",
       "      <td>2</td>\n",
       "      <td>full of surprises . xxmaj confusing at times ... yes , but the twists and turns of the plot always keeps you in suspense . xxmaj the only thing that this movie had too much of was exploding cars . xxbos i saw this film earlier today , and i was amazed at how accurate the dialog is for the main characters . xxmaj it did n't feel like a</td>\n",
       "    </tr>\n",
       "    <tr>\n",
       "      <td>3</td>\n",
       "      <td>her ! xxmaj then i could enjoy the rest of the movie . \\n \\n  xxmaj everywhere \" xxmaj harry xxmaj callahan \" ( xxmaj clint xxmaj eastwood ) goes , violence immediately follows xxrep 5 . within minutes ! xxmaj it happens so often it 's almost laughable but it makes for a fast - moving , entertaining film with a satisfying ending as all the scumbag villains</td>\n",
       "    </tr>\n",
       "    <tr>\n",
       "      <td>4</td>\n",
       "      <td>film 's abrupt bittersweet ending . xxmaj this is virtually a two - hander ( with all other characters - save for the nosy concierge of the apartment block in which the story takes place in its entirety - which include xxmaj loren 's gruff and fervently patriotic husband , surprisingly played by xxmaj john xxmaj vernon , appear only at the beginning and closing sequences ) ; still ,</td>\n",
       "    </tr>\n",
       "  </tbody>\n",
       "</table>"
      ],
      "text/plain": [
       "<IPython.core.display.HTML object>"
      ]
     },
     "metadata": {},
     "output_type": "display_data"
    }
   ],
   "source": [
    "data_lm.show_batch()\n"
   ]
  },
  {
   "cell_type": "code",
   "execution_count": 19,
   "metadata": {},
   "outputs": [],
   "source": [
    "data_lm = load_data(path, 'data_lm.pkl', bs=bs)"
   ]
  },
  {
   "cell_type": "code",
   "execution_count": 20,
   "metadata": {},
   "outputs": [],
   "source": [
    "learn = language_model_learner(data_lm, AWD_LSTM, drop_mult=0.3)"
   ]
  },
  {
   "cell_type": "code",
   "execution_count": 21,
   "metadata": {},
   "outputs": [
    {
     "data": {
      "text/html": [],
      "text/plain": [
       "<IPython.core.display.HTML object>"
      ]
     },
     "metadata": {},
     "output_type": "display_data"
    },
    {
     "name": "stdout",
     "output_type": "stream",
     "text": [
      "LR Finder is complete, type {learner_name}.recorder.plot() to see the graph.\n"
     ]
    }
   ],
   "source": [
    "learn.lr_find()"
   ]
  },
  {
   "cell_type": "code",
   "execution_count": 22,
   "metadata": {},
   "outputs": [
    {
     "data": {
      "image/png": "[encoded data removed]",
      "text/plain": [
       "<Figure size 432x288 with 1 Axes>"
      ]
     },
     "metadata": {
      "needs_background": "light"
     },
     "output_type": "display_data"
    }
   ],
   "source": [
    "learn.recorder.plot(skip_end=15)"
   ]
  },
  {
   "cell_type": "code",
   "execution_count": 23,
   "metadata": {},
   "outputs": [
    {
     "data": {
      "text/html": [
       "Total time: 23:54 <p><table border=\"1\" class=\"dataframe\">\n",
       "  <thead>\n",
       "    <tr style=\"text-align: left;\">\n",
       "      <th>epoch</th>\n",
       "      <th>train_loss</th>\n",
       "      <th>valid_loss</th>\n",
       "      <th>accuracy</th>\n",
       "      <th>time</th>\n",
       "    </tr>\n",
       "  </thead>\n",
       "  <tbody>\n",
       "    <tr>\n",
       "      <td>0</td>\n",
       "      <td>4.226264</td>\n",
       "      <td>4.055549</td>\n",
       "      <td>0.293441</td>\n",
       "      <td>23:54</td>\n",
       "    </tr>\n",
       "  </tbody>\n",
       "</table>"
      ],
      "text/plain": [
       "<IPython.core.display.HTML object>"
      ]
     },
     "metadata": {},
     "output_type": "display_data"
    }
   ],
   "source": [
    "learn.fit_one_cycle(1, 1e-2, moms=(0.8,0.7))"
   ]
  },
  {
   "cell_type": "code",
   "execution_count": 25,
   "metadata": {},
   "outputs": [],
   "source": [
    "learn.save('fit-head')"
   ]
  },
  {
   "cell_type": "code",
   "execution_count": 27,
   "metadata": {},
   "outputs": [
    {
     "data": {
      "text/plain": [
       "LanguageLearner(data=TextLMDataBunch;\n",
       "\n",
       "Train: LabelList (90000 items)\n",
       "x: LMTextList\n",
       "xxbos shakespeare 's plays have a way of transcending time . xxmaj the language somehow breaks the time barrier . but perhaps it is the actors who really do that . \n",
       " \n",
       "  after the disappointment in xxmaj romeo and xxmaj juliet ( the version with xxmaj claire xxmaj danes and xxmaj leonardo dicaprio ) , was hesitant take on another modern rendition of xxmaj shakespeare . xxmaj to my surprise xxmaj othello was great ! \n",
       " \n",
       "  xxmaj iago 's character was played so well by the xxmaj kenneth fellow ! even xxunk xxmaj iago is really evil and despicable , the character was played so well that it does what shakespeare intended for the charater to be , a pleasure for the audience to hate . i have to say that fishburne 's performance here was really good as well . \n",
       " \n",
       "  i recommend this for shakespeare scholars and lazy students ( who refuse to read the book ) alike .,xxbos xxmaj noni xxmaj hazlehurst 's tour - de - force performance ( which won her an xxup afi award ) is at least on par with her effort in xxup fran three years later . xxmaj colin xxmaj friels is also good , and , for those who are interested , xxmaj alice xxmaj garner appears as xxmaj noni 's child , and xxmaj michael xxmaj caton ( best known for xxup the xxup castle ) is a bearded painter . ( xxmaj also interestingly , xxmaj hazlehurst is currently the host of lifestyle program xxup better xxup homes xxup and xxup gardens , and xxmaj caton is the host of property - type programs including xxup hot xxup property , xxup hot xxup auction , etc ... ) xxmaj this film reaffirms the popularly - held belief that xxmaj noni was arguably xxmaj australia 's top female actor during the early - to - mid 1980s . xxmaj rating : 79 / 100 .,xxbos i saw this film ( it 's xxmaj english title is \" xxmaj who 's xxmaj singing xxmaj over xxmaj there ? \" ) at the 1980 xxmaj montreal xxmaj international xxmaj film xxmaj festival . xxmaj it won raves then ... and disappeared . a terrible shame . xxmaj it is brilliant . xxmaj sublime , ridiculous , sad , and extremely funny . xxmaj the script is a work of art . xxmaj it 's been 19 years and i 've seen only a handful of comedies ( or any other genre , for that matter ) that can match its originality .,xxbos xxmaj this was one of those wonderful rare moments in xxup t.v. that i wished i 'd captured forever on xxup vhs . xxmaj wo n't it ever air again ? \n",
       " \n",
       "  xxmaj it was so creative and i remember it was aired once a week and the wait for the next episode was excruciating . i want to see it all again . i want to buy it . i want what i ca n't have . xxmaj not even on xxup ebay . \n",
       " \n",
       "  xxmaj so , having ranted enough it was , by far , one of the best series the 80 's put out . xxmaj it should be considered a classic but is lost in space . xxmaj at least this website and xxmaj wikipedia mention it . xxmaj sob . \n",
       " \n",
       "  xxmaj it was utterly appealing , funny , flirtatious , and original . xxmaj maybe not like xxmaj sherlock xxmaj holmes original , i actually think xxmaj quintin is far more attractive and has a better chance with his leading lady than the stiff and xxunk xxmaj holmes ever could .,xxbos i have to be 100 % honest with you fellow imdb users . i wanted to see this movie for a very long time only because of the poster . xxmaj does n't xxmaj charlotte xxmaj gainsbourg looks extremely sexy and charming smiling that way ? i 'm in love with that woman ! i got what i expected ... but only half . xxmaj this film should deliver expectations for those who enjoy all kinds of romantic comedies or stories involving intelligent humor and light dramatic situations . \n",
       " \n",
       "  xxmaj while i do n't agree with another fellow imdb user who states that the movie is overrated ; i must admit that \" xxmaj xxunk - moi ta main \" has plenty of flaws . \n",
       " \n",
       "  xxmaj my main problem with the film is the lack of on screen chemistry between the main characters . xxmaj there is n't a single scene previous to the climax that shows the main characters sharing a moment \" of romance \" or even a clue to suggest that they 're interested in each other . \n",
       " \n",
       "  xxmaj in fact , the only scene were both share a moment is tremendously awkward ( when both are in the couch ) and does not help the audience understand about a possible love interest . i did n't buy the dinner sequence . \n",
       " \n",
       "  xxmaj still , the movie delivers very funny moments and has a strong dialogs that support such an ingenuous premise . i mean with ingenuous that it would be very difficult to execute such a xxunk by a 43 year old man in these days . \n",
       " \n",
       "  i understand it 's a movie and that 's why i accept it as a funny situation . xxmaj plus , the humor is versatile . xxmaj there are moments involving xxup s&m , funny lines with xxmaj chabat 's best friend , some lesbian references , funny situations involving the family women , and more . \n",
       " \n",
       "  xxmaj charlotte xxmaj xxunk 's performance is top notch and she 's by far the reason to watch the movie . xxmaj she 's funny , sexy , looks very thin and fine , and demonstrates she 's a versatile and talented actress who can pull out a comedic and dramatic performance in sheer brilliance . \n",
       " \n",
       "  xxmaj alain xxmaj chabat is a fine actor and gives a very decent performance . i think the supporting cast do what they can . \n",
       " \n",
       "  xxmaj the score , art direction , and other technical aspects are really good and give a dynamic look to the film . \n",
       " \n",
       "  xxmaj those who enjoy this kind of cinema should be pleased after the ending credits . xxmaj it 's a good example of feel good cinema .\n",
       "y: LMLabelList\n",
       ",,,,\n",
       "Path: /home/stan_demontmarin/.fastai/data/imdb;\n",
       "\n",
       "Valid: LabelList (10000 items)\n",
       "x: LMTextList\n",
       "xxbos xxmaj this movie was suspenseful and fun to view . xxmaj as i am a fan of these type of movies , i did enjoy this . xxmaj the premise is kind of scary but the fact that i did n't rate this a 10 was because the movie was a little over the top in some areas . \n",
       " \n",
       "  xxup spoilers : \n",
       " \n",
       "  xxmaj cmon : xxup nobody could identify this girl ? i understand the concept of isolating oneself but i find it hard to believe that xxup somebody - xxup anybody would n't have been able to xxup id this girl as xxmaj angela xxmaj bennet . xxmaj that was over the top and so was the scene where she xxup walked over to somebody 's desk and started typing . xxmaj this was overall a really good movie , suspenseful and keeps your interest . xxmaj dennis xxmaj miller was great as xxmaj allen , xxup really believable , xxmaj bullock was good as the lonely reserved computer worker the bad guys all underestimated . \n",
       " \n",
       "  i think the xxup premise of the movie was really different - and scary . xxmaj in today 's times who knows what could happen ? xxmaj but some of the over the top scenes prevented this movie from being a 10 . 8 of 10 .,xxbos xxmaj dark xxmaj remains is a home run plain and simple . xxmaj the film is full of creepy visuals , and scares ' that will make the most seasoned horror veteran jump straight out of there seat . xxmaj the staircase scene in particular , these guys are good . xxmaj although they were n't working on a huge budget everything looks good , and the actors come through . xxmaj dark xxmaj remains does have one of those interpretive endings which may be a negative for some , but i guess it makes you think . xxmaj cheri xxmaj christian and xxmaj greg xxmaj thompson are spot on as the grieving couple trying to rebuild there lives ' , however some side characters like the xxmaj sheriff did n't convince me . xxmaj they are n't all that important anyways . i give xxmaj dark xxmaj remains a perfect ten rating for being ten times scarier than any recent studio ghost story / xxmaj japanese remake .,xxbos now i would like to say this is one of the best movies i have ever seen . and in being the best , it is also the saddest . i would like to say i cried for an hour at least on this movie , and not how my life relates to it , but on the actually movie and how bad i felt about their lives . and i cried hard . not cried .. i wept .. i wept like a baby . i wept so much and hard that my stomach muscles hurt me . wow . good movie . go see it .,xxbos xxmaj night of the xxmaj living xxmaj dead starts as brother & sister xxmaj barbara ( xxmaj patricia xxmaj tallman ) & xxmaj johnnie ( xxmaj bill xxmaj mosley ) visit their recently deceased mother 's grave , there they are attacked by one of the living dead & xxmaj johnnie is killed although xxmaj barbara manages to escape on foot to a nearby farmhouse . xxmaj there she is attacked by more of the living dead but a man in truck called xxmaj ben ( xxmaj tony xxmaj todd ) arrives & helps her , the truck is out of gas & they have no choice but to stay put . xxmaj then out of the cellar some more people emerge , together they decide to board up the house to try & keep the flesh eating living dead outside as they desperately try to come up with a plan of escape , as the night draws on tensions in the house escalate & the cannibalistic living dead outside rapidly grow in number ... \n",
       " \n",
       "  xxmaj directed by xxmaj tom xxmaj savini this is absolutely brilliant remake of the xxmaj george xxup a. xxmaj romero classic xxmaj night of the xxmaj living xxmaj dead ( 1968 ) who actually turns in the screenplay for this , made years before the recent xxmaj hollywood fascination with horror remakes , xxmaj the xxmaj hills xxmaj have xxmaj eyes ( 2006 ) , xxmaj the xxmaj omen ( 2006 ) , xxmaj the xxmaj ring ( 2002 ) , xxmaj dawn of the xxmaj dead ( 2004 ) , xxmaj the xxmaj wicker xxmaj man ( 2006 ) & xxmaj black xxmaj christmas ( 2006 ) to name just six of the top of my head this ' 90 version of xxmaj night of the xxmaj living xxmaj dead is how it should be done & i thought it was a great film on many levels . xxmaj the script stays pretty faithful to the original which to be fair i have n't seen in a number of years so the exact details of it are a little hazy , it starts out almost scene - for - scene although it changes things at the end . xxmaj this treats the original material with respect & adds it 's own ideas without drastically altering things which is how a remake should be i suppose , i really liked the ironic ending where the heroic xxmaj ben was in fact wrong & if they 'd listened to the selfish xxmaj harry they would have all been rescued . xxmaj the character 's are very strong here & i particularly liked xxmaj ben who gets some really good dialogue as he tries to explain things from his own perspective & what he has seen prior to meeting xxmaj xxunk . xxmaj the film moves along at a great pace , it 's never boring , it 's as plausible as any film can be featuring flesh eating zombies , it 's really nice to see a pretty intelligent horror film with good adult character 's rather than annoying teens & a well thought out script . \n",
       " \n",
       "  xxmaj this was the directorial debut of special make - up effects man xxmaj tom xxmaj savini & it perhaps comes as a surprise that this xxmaj night of the xxmaj living xxmaj dead remake is pretty tame in the gore department , there are n't even many gory head shots , there 's a severed hand , a few rotten zombies & not much else but the story compensates . xxmaj to be fair the filmmakers were forced to cut some of the gorier stuff to get the rating that they wanted , however there is a documentary on the xxup dvd release with some of the gore shots that were cut out . xxmaj there 's a nice tension to the film , the in fighting between xxmaj harry & xxmaj ben together with the ever growing hordes of zombies outside . \n",
       " \n",
       "  xxmaj with a supposed budget of about $ xxunk this is very well made with good production values , impressive special make - up effects & very good acting especially xxmaj todd . \n",
       " \n",
       "  xxmaj night of the xxmaj living xxmaj dead ' 90 is a top film , it 's how remakes should be done & is a fantastic homage to original that is a great film in it 's own right . xxmaj definitely well worth a watch .,xxbos xxmaj this film is simply about a bunch of women who pick men who 's behaviors they claim to hate & then spend the rest of their time complaining about them . xxmaj it seems that this view is held by many women & possibly accounts in some measure to the number of women who consider their relationships with men to be unsatisfying .\n",
       "y: LMLabelList\n",
       ",,,,\n",
       "Path: /home/stan_demontmarin/.fastai/data/imdb;\n",
       "\n",
       "Test: None, model=SequentialRNN(\n",
       "  (0): AWD_LSTM(\n",
       "    (encoder): Embedding(60004, 400, padding_idx=1)\n",
       "    (encoder_dp): EmbeddingDropout(\n",
       "      (emb): Embedding(60004, 400, padding_idx=1)\n",
       "    )\n",
       "    (rnns): ModuleList(\n",
       "      (0): WeightDropout(\n",
       "        (module): LSTM(400, 1150, batch_first=True)\n",
       "      )\n",
       "      (1): WeightDropout(\n",
       "        (module): LSTM(1150, 1150, batch_first=True)\n",
       "      )\n",
       "      (2): WeightDropout(\n",
       "        (module): LSTM(1150, 400, batch_first=True)\n",
       "      )\n",
       "    )\n",
       "    (input_dp): RNNDropout()\n",
       "    (hidden_dps): ModuleList(\n",
       "      (0): RNNDropout()\n",
       "      (1): RNNDropout()\n",
       "      (2): RNNDropout()\n",
       "    )\n",
       "  )\n",
       "  (1): LinearDecoder(\n",
       "    (decoder): Linear(in_features=400, out_features=60004, bias=True)\n",
       "    (output_dp): RNNDropout()\n",
       "  )\n",
       "), opt_func=functools.partial(<class 'torch.optim.adam.Adam'>, betas=(0.9, 0.99)), loss_func=FlattenedLoss of CrossEntropyLoss(), metrics=[<function accuracy at 0x7f47c3991268>], true_wd=True, bn_wd=True, wd=0.01, train_bn=True, path=PosixPath('/home/stan_demontmarin/.fastai/data/imdb'), model_dir='models', callback_fns=[functools.partial(<class 'fastai.basic_train.Recorder'>, add_time=True)], callbacks=[RNNTrainer\n",
       "learn: ...\n",
       "alpha: 2.0\n",
       "beta: 1.0], layer_groups=[Sequential(\n",
       "  (0): WeightDropout(\n",
       "    (module): LSTM(400, 1150, batch_first=True)\n",
       "  )\n",
       "  (1): RNNDropout()\n",
       "), Sequential(\n",
       "  (0): WeightDropout(\n",
       "    (module): LSTM(1150, 1150, batch_first=True)\n",
       "  )\n",
       "  (1): RNNDropout()\n",
       "), Sequential(\n",
       "  (0): WeightDropout(\n",
       "    (module): LSTM(1150, 400, batch_first=True)\n",
       "  )\n",
       "  (1): RNNDropout()\n",
       "), Sequential(\n",
       "  (0): Embedding(60004, 400, padding_idx=1)\n",
       "  (1): EmbeddingDropout(\n",
       "    (emb): Embedding(60004, 400, padding_idx=1)\n",
       "  )\n",
       "  (2): LinearDecoder(\n",
       "    (decoder): Linear(in_features=400, out_features=60004, bias=True)\n",
       "    (output_dp): RNNDropout()\n",
       "  )\n",
       ")], add_time=True)"
      ]
     },
     "execution_count": 27,
     "metadata": {},
     "output_type": "execute_result"
    }
   ],
   "source": [
    "learn.load('fit-head')"
   ]
  },
  {
   "cell_type": "code",
   "execution_count": 28,
   "metadata": {},
   "outputs": [
    {
     "data": {
      "text/plain": [
       "fastai.datasets.URLs"
      ]
     },
     "execution_count": 28,
     "metadata": {},
     "output_type": "execute_result"
    }
   ],
   "source": []
  },
  {
   "cell_type": "code",
   "execution_count": 30,
   "metadata": {},
   "outputs": [
    {
     "ename": "NameError",
     "evalue": "name 'fastai' is not defined",
     "output_type": "error",
     "traceback": [
      "\u001b[0;31m---------------------------------------------------------------------------\u001b[0m",
      "\u001b[0;31mNameError\u001b[0m                                 Traceback (most recent call last)",
      "\u001b[0;32m<ipython-input-30-a0143dddf468>\u001b[0m in \u001b[0;36m<module>\u001b[0;34m\u001b[0m\n\u001b[0;32m----> 1\u001b[0;31m \u001b[0mfastai\u001b[0m\u001b[0;34m.\u001b[0m\u001b[0mdatasets\u001b[0m\u001b[0;34m.\u001b[0m\u001b[0mURLs\u001b[0m\u001b[0;34m\u001b[0m\u001b[0;34m\u001b[0m\u001b[0m\n\u001b[0m",
      "\u001b[0;31mNameError\u001b[0m: name 'fastai' is not defined"
     ]
    }
   ],
   "source": []
  },
  {
   "cell_type": "code",
   "execution_count": null,
   "metadata": {},
   "outputs": [],
   "source": []
  }
 ],
 "metadata": {
  "kernelspec": {
   "display_name": "fastai",
   "language": "python",
   "name": "fastai"
  },
  "language_info": {
   "codemirror_mode": {
    "name": "ipython",
    "version": 3
   },
   "file_extension": ".py",
   "mimetype": "text/x-python",
   "name": "python",
   "nbconvert_exporter": "python",
   "pygments_lexer": "ipython3",
   "version": "3.7.3"
  }
 },
 "nbformat": 4,
 "nbformat_minor": 2
}
